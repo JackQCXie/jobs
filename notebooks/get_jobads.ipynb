{
 "cells": [
  {
   "cell_type": "code",
   "execution_count": 1,
   "id": "eba1a430",
   "metadata": {},
   "outputs": [],
   "source": [
    "import os\n",
    "\n",
    "import pandas\n",
    "import requests"
   ]
  },
  {
   "cell_type": "code",
   "execution_count": 4,
   "id": "e1e11247",
   "metadata": {},
   "outputs": [],
   "source": [
    "src_dir = os.path.abspath('../data/jobposts')"
   ]
  },
  {
   "cell_type": "code",
   "execution_count": null,
   "id": "845208bd",
   "metadata": {},
   "outputs": [],
   "source": [
    "file = '20250623-vancouver.csv'"
   ]
  },
  {
   "cell_type": "code",
   "execution_count": null,
   "id": "8367b108",
   "metadata": {},
   "outputs": [
    {
     "data": {
      "text/plain": [
       "'/home/qcx201/Projects/jobs/data/jobposts'"
      ]
     },
     "execution_count": 3,
     "metadata": {},
     "output_type": "execute_result"
    }
   ],
   "source": [
    "src_dir, "
   ]
  },
  {
   "cell_type": "code",
   "execution_count": null,
   "id": "036b770b",
   "metadata": {},
   "outputs": [],
   "source": []
  }
 ],
 "metadata": {
  "kernelspec": {
   "display_name": "base",
   "language": "python",
   "name": "python3"
  },
  "language_info": {
   "codemirror_mode": {
    "name": "ipython",
    "version": 3
   },
   "file_extension": ".py",
   "mimetype": "text/x-python",
   "name": "python",
   "nbconvert_exporter": "python",
   "pygments_lexer": "ipython3",
   "version": "3.12.7"
  }
 },
 "nbformat": 4,
 "nbformat_minor": 5
}

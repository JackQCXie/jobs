{
 "cells": [
  {
   "cell_type": "code",
   "execution_count": 8,
   "id": "47bdaa49",
   "metadata": {},
   "outputs": [],
   "source": [
    "import pandas"
   ]
  },
  {
   "cell_type": "code",
   "execution_count": 9,
   "id": "99128dc9",
   "metadata": {},
   "outputs": [],
   "source": [
    "src = '../data/jobposts/20250526-vancouver.csv'\n",
    "df = pandas.read_csv(src)"
   ]
  },
  {
   "cell_type": "code",
   "execution_count": 10,
   "id": "f8c87e4d",
   "metadata": {},
   "outputs": [
    {
     "name": "stdout",
     "output_type": "stream",
     "text": [
      "(21087, 6)\n",
      "(21087,)\n"
     ]
    }
   ],
   "source": [
    "print(df.shape)\n",
    "print(df['job_url'].unique().shape)"
   ]
  }
 ],
 "metadata": {
  "kernelspec": {
   "display_name": "base",
   "language": "python",
   "name": "python3"
  },
  "language_info": {
   "codemirror_mode": {
    "name": "ipython",
    "version": 3
   },
   "file_extension": ".py",
   "mimetype": "text/x-python",
   "name": "python",
   "nbconvert_exporter": "python",
   "pygments_lexer": "ipython3",
   "version": "3.12.7"
  }
 },
 "nbformat": 4,
 "nbformat_minor": 5
}
